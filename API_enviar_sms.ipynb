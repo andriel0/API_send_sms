{
 "cells": [
  {
   "cell_type": "code",
   "execution_count": 2,
   "id": "0f02ffbb",
   "metadata": {},
   "outputs": [
    {
     "name": "stdout",
     "output_type": "stream",
     "text": [
      "SM358d21625bae2d319b932638cbf3f060\n"
     ]
    }
   ],
   "source": [
    "from twilio.rest import Client\n",
    "\n",
    "#Tirando o account_sid e o token para preservar a conta\n",
    "account_sid = 'XXXXXXX'\n",
    "token = 'YYYYYYY'\n",
    "\n",
    "client = Client(account_sid, token)\n",
    "\n",
    "numero_envio = '+12517328233'\n",
    "numero_recebe = '+5585996953190'\n",
    "msg = 'Brincando com automações :P'\n",
    "\n",
    "message = client.messages.create(\n",
    "    to = numero_recebe,\n",
    "    from_ = numero_envio,\n",
    "    body = msg)\n",
    "print(message.sid)"
   ]
  }
 ],
 "metadata": {
  "kernelspec": {
   "display_name": "Python 3 (ipykernel)",
   "language": "python",
   "name": "python3"
  },
  "language_info": {
   "codemirror_mode": {
    "name": "ipython",
    "version": 3
   },
   "file_extension": ".py",
   "mimetype": "text/x-python",
   "name": "python",
   "nbconvert_exporter": "python",
   "pygments_lexer": "ipython3",
   "version": "3.9.12"
  }
 },
 "nbformat": 4,
 "nbformat_minor": 5
}
